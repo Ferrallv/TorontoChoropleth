{
 "cells": [
  {
   "cell_type": "markdown",
   "metadata": {},
   "source": [
    "# Toronto 2016 Census Choropleth - Reported Places of Birth of Immigrants"
   ]
  },
  {
   "cell_type": "markdown",
   "metadata": {},
   "source": [
    "It is the purpose of this notebook to outline the process I took to transform the data into a form to be used for an interactive bokeh plot."
   ]
  },
  {
   "cell_type": "code",
   "execution_count": 1,
   "metadata": {},
   "outputs": [],
   "source": [
    "# To import our necessary libraries\n",
    "import numpy as np\n",
    "import pandas as pd\n",
    "import geopandas as gpd\n",
    "import json"
   ]
  },
  {
   "cell_type": "markdown",
   "metadata": {},
   "source": [
    "The data that we will be using will be provided by the 2016 Canadian census. It can be downloaded [here](https://www12.statcan.gc.ca/census-recensement/2016/dp-pd/prof/details/download-telecharger/comp/page_dl-tc.cfm?Lang=E) under the title \"Census metropolitan areas (CMAs), tracted census agglomerations (CAs) and census tracts (CTs)\".\n",
    "\n",
    "I renamed the file to `CensusTract_2016.csv` for ease of use."
   ]
  },
  {
   "cell_type": "code",
   "execution_count": 2,
   "metadata": {},
   "outputs": [
    {
     "name": "stderr",
     "output_type": "stream",
     "text": [
      "/Users/vaninferrall/anaconda3/envs/deeplearning/lib/python3.7/site-packages/IPython/core/interactiveshell.py:3058: DtypeWarning: Columns (3,11) have mixed types. Specify dtype option on import or set low_memory=False.\n",
      "  interactivity=interactivity, compiler=compiler, result=result)\n"
     ]
    }
   ],
   "source": [
    "# Importing our data set, the Census Profile, 2016 Census\n",
    "df_2016 = pd.read_csv(\"CensusData/CensusTract_2016.csv\")"
   ]
  },
  {
   "cell_type": "code",
   "execution_count": 3,
   "metadata": {},
   "outputs": [
    {
     "data": {
      "text/html": [
       "<div>\n",
       "<style scoped>\n",
       "    .dataframe tbody tr th:only-of-type {\n",
       "        vertical-align: middle;\n",
       "    }\n",
       "\n",
       "    .dataframe tbody tr th {\n",
       "        vertical-align: top;\n",
       "    }\n",
       "\n",
       "    .dataframe thead th {\n",
       "        text-align: right;\n",
       "    }\n",
       "</style>\n",
       "<table border=\"1\" class=\"dataframe\">\n",
       "  <thead>\n",
       "    <tr style=\"text-align: right;\">\n",
       "      <th></th>\n",
       "      <th>CENSUS_YEAR</th>\n",
       "      <th>GEO_CODE (POR)</th>\n",
       "      <th>GEO_LEVEL</th>\n",
       "      <th>GEO_NAME</th>\n",
       "      <th>GNR</th>\n",
       "      <th>GNR_LF</th>\n",
       "      <th>DATA_QUALITY_FLAG</th>\n",
       "      <th>ALT_GEO_CODE</th>\n",
       "      <th>DIM: Profile of Census Tracts (2247)</th>\n",
       "      <th>Member ID: Profile of Census Tracts (2247)</th>\n",
       "      <th>Notes: Profile of Census Tracts (2247)</th>\n",
       "      <th>Dim: Sex (3): Member ID: [1]: Total - Sex</th>\n",
       "      <th>Dim: Sex (3): Member ID: [2]: Male</th>\n",
       "      <th>Dim: Sex (3): Member ID: [3]: Female</th>\n",
       "    </tr>\n",
       "  </thead>\n",
       "  <tbody>\n",
       "    <tr>\n",
       "      <td>0</td>\n",
       "      <td>2016</td>\n",
       "      <td>1.0</td>\n",
       "      <td>1</td>\n",
       "      <td>St. John's</td>\n",
       "      <td>3.5</td>\n",
       "      <td>5.3</td>\n",
       "      <td>0</td>\n",
       "      <td>1</td>\n",
       "      <td>Population, 2016</td>\n",
       "      <td>1</td>\n",
       "      <td>1.0</td>\n",
       "      <td>205955</td>\n",
       "      <td>...</td>\n",
       "      <td>...</td>\n",
       "    </tr>\n",
       "    <tr>\n",
       "      <td>1</td>\n",
       "      <td>2016</td>\n",
       "      <td>1.0</td>\n",
       "      <td>1</td>\n",
       "      <td>St. John's</td>\n",
       "      <td>3.5</td>\n",
       "      <td>5.3</td>\n",
       "      <td>0</td>\n",
       "      <td>1</td>\n",
       "      <td>Population, 2011</td>\n",
       "      <td>2</td>\n",
       "      <td>2.0</td>\n",
       "      <td>196954</td>\n",
       "      <td>...</td>\n",
       "      <td>...</td>\n",
       "    </tr>\n",
       "    <tr>\n",
       "      <td>2</td>\n",
       "      <td>2016</td>\n",
       "      <td>1.0</td>\n",
       "      <td>1</td>\n",
       "      <td>St. John's</td>\n",
       "      <td>3.5</td>\n",
       "      <td>5.3</td>\n",
       "      <td>0</td>\n",
       "      <td>1</td>\n",
       "      <td>Population percentage change, 2011 to 2016</td>\n",
       "      <td>3</td>\n",
       "      <td>NaN</td>\n",
       "      <td>4.6</td>\n",
       "      <td>...</td>\n",
       "      <td>...</td>\n",
       "    </tr>\n",
       "    <tr>\n",
       "      <td>3</td>\n",
       "      <td>2016</td>\n",
       "      <td>1.0</td>\n",
       "      <td>1</td>\n",
       "      <td>St. John's</td>\n",
       "      <td>3.5</td>\n",
       "      <td>5.3</td>\n",
       "      <td>0</td>\n",
       "      <td>1</td>\n",
       "      <td>Total private dwellings</td>\n",
       "      <td>4</td>\n",
       "      <td>3.0</td>\n",
       "      <td>92353</td>\n",
       "      <td>...</td>\n",
       "      <td>...</td>\n",
       "    </tr>\n",
       "    <tr>\n",
       "      <td>4</td>\n",
       "      <td>2016</td>\n",
       "      <td>1.0</td>\n",
       "      <td>1</td>\n",
       "      <td>St. John's</td>\n",
       "      <td>3.5</td>\n",
       "      <td>5.3</td>\n",
       "      <td>0</td>\n",
       "      <td>1</td>\n",
       "      <td>Private dwellings occupied by usual residents</td>\n",
       "      <td>5</td>\n",
       "      <td>4.0</td>\n",
       "      <td>85015</td>\n",
       "      <td>...</td>\n",
       "      <td>...</td>\n",
       "    </tr>\n",
       "  </tbody>\n",
       "</table>\n",
       "</div>"
      ],
      "text/plain": [
       "   CENSUS_YEAR  GEO_CODE (POR)  GEO_LEVEL    GEO_NAME  GNR  GNR_LF  \\\n",
       "0         2016             1.0          1  St. John's  3.5     5.3   \n",
       "1         2016             1.0          1  St. John's  3.5     5.3   \n",
       "2         2016             1.0          1  St. John's  3.5     5.3   \n",
       "3         2016             1.0          1  St. John's  3.5     5.3   \n",
       "4         2016             1.0          1  St. John's  3.5     5.3   \n",
       "\n",
       "   DATA_QUALITY_FLAG  ALT_GEO_CODE  \\\n",
       "0                  0             1   \n",
       "1                  0             1   \n",
       "2                  0             1   \n",
       "3                  0             1   \n",
       "4                  0             1   \n",
       "\n",
       "            DIM: Profile of Census Tracts (2247)  \\\n",
       "0                               Population, 2016   \n",
       "1                               Population, 2011   \n",
       "2     Population percentage change, 2011 to 2016   \n",
       "3                        Total private dwellings   \n",
       "4  Private dwellings occupied by usual residents   \n",
       "\n",
       "   Member ID: Profile of Census Tracts (2247)  \\\n",
       "0                                           1   \n",
       "1                                           2   \n",
       "2                                           3   \n",
       "3                                           4   \n",
       "4                                           5   \n",
       "\n",
       "   Notes: Profile of Census Tracts (2247)  \\\n",
       "0                                     1.0   \n",
       "1                                     2.0   \n",
       "2                                     NaN   \n",
       "3                                     3.0   \n",
       "4                                     4.0   \n",
       "\n",
       "  Dim: Sex (3): Member ID: [1]: Total - Sex  \\\n",
       "0                                    205955   \n",
       "1                                    196954   \n",
       "2                                       4.6   \n",
       "3                                     92353   \n",
       "4                                     85015   \n",
       "\n",
       "  Dim: Sex (3): Member ID: [2]: Male Dim: Sex (3): Member ID: [3]: Female  \n",
       "0                                ...                                  ...  \n",
       "1                                ...                                  ...  \n",
       "2                                ...                                  ...  \n",
       "3                                ...                                  ...  \n",
       "4                                ...                                  ...  "
      ]
     },
     "execution_count": 3,
     "metadata": {},
     "output_type": "execute_result"
    }
   ],
   "source": [
    "#To check\n",
    "df_2016.head()"
   ]
  },
  {
   "cell_type": "markdown",
   "metadata": {},
   "source": [
    "This data set contains all of the 2016 census data from the census profile at a census tract level. A census tract is a geographic location within a metropolitan area of specific population. A detailed explanation can be read [here](https://www150.statcan.gc.ca/n1/pub/92-195-x/2011001/geo/ct-sr/def-eng.htm). We are looking specifically for those that make-up the neighbourhoods in Toronto. Fortunately Mat Krepicz at the City of Toronto was able to help and supplied this information. The excel file, `CTtoNHOOD-2006to2016.xlsx` is included in the repository.\n",
    "\n",
    "I created a new .csv for to use for our purposes from `CTtoNHOOD-2006to2016.xlsx`."
   ]
  },
  {
   "cell_type": "code",
   "execution_count": 4,
   "metadata": {},
   "outputs": [],
   "source": [
    "# A dataframe of neighbourhoods and the census tracts that they consist of.\n",
    "df_neighbourhoodsCTs = pd.read_csv(\"CensusData/2016_Neighbourhood_CensusTracts.csv\")"
   ]
  },
  {
   "cell_type": "code",
   "execution_count": 5,
   "metadata": {},
   "outputs": [
    {
     "data": {
      "text/html": [
       "<div>\n",
       "<style scoped>\n",
       "    .dataframe tbody tr th:only-of-type {\n",
       "        vertical-align: middle;\n",
       "    }\n",
       "\n",
       "    .dataframe tbody tr th {\n",
       "        vertical-align: top;\n",
       "    }\n",
       "\n",
       "    .dataframe thead th {\n",
       "        text-align: right;\n",
       "    }\n",
       "</style>\n",
       "<table border=\"1\" class=\"dataframe\">\n",
       "  <thead>\n",
       "    <tr style=\"text-align: right;\">\n",
       "      <th></th>\n",
       "      <th>Census Tract</th>\n",
       "      <th>Neighbourhood</th>\n",
       "      <th>Neighbourhood #</th>\n",
       "    </tr>\n",
       "  </thead>\n",
       "  <tbody>\n",
       "    <tr>\n",
       "      <td>0</td>\n",
       "      <td>5350330.00</td>\n",
       "      <td>Guildwood</td>\n",
       "      <td>140</td>\n",
       "    </tr>\n",
       "    <tr>\n",
       "      <td>1</td>\n",
       "      <td>5350331.01</td>\n",
       "      <td>Guildwood</td>\n",
       "      <td>140</td>\n",
       "    </tr>\n",
       "    <tr>\n",
       "      <td>2</td>\n",
       "      <td>5350331.03</td>\n",
       "      <td>Scarborough Village</td>\n",
       "      <td>139</td>\n",
       "    </tr>\n",
       "    <tr>\n",
       "      <td>3</td>\n",
       "      <td>5350331.04</td>\n",
       "      <td>Scarborough Village</td>\n",
       "      <td>139</td>\n",
       "    </tr>\n",
       "    <tr>\n",
       "      <td>4</td>\n",
       "      <td>5350332.00</td>\n",
       "      <td>Scarborough Village</td>\n",
       "      <td>139</td>\n",
       "    </tr>\n",
       "  </tbody>\n",
       "</table>\n",
       "</div>"
      ],
      "text/plain": [
       "   Census Tract        Neighbourhood  Neighbourhood #\n",
       "0    5350330.00            Guildwood              140\n",
       "1    5350331.01            Guildwood              140\n",
       "2    5350331.03  Scarborough Village              139\n",
       "3    5350331.04  Scarborough Village              139\n",
       "4    5350332.00  Scarborough Village              139"
      ]
     },
     "execution_count": 5,
     "metadata": {},
     "output_type": "execute_result"
    }
   ],
   "source": [
    "# To check\n",
    "df_neighbourhoodsCTs.head()"
   ]
  },
  {
   "cell_type": "code",
   "execution_count": 6,
   "metadata": {},
   "outputs": [
    {
     "data": {
      "text/html": [
       "<div>\n",
       "<style scoped>\n",
       "    .dataframe tbody tr th:only-of-type {\n",
       "        vertical-align: middle;\n",
       "    }\n",
       "\n",
       "    .dataframe tbody tr th {\n",
       "        vertical-align: top;\n",
       "    }\n",
       "\n",
       "    .dataframe thead th {\n",
       "        text-align: right;\n",
       "    }\n",
       "</style>\n",
       "<table border=\"1\" class=\"dataframe\">\n",
       "  <thead>\n",
       "    <tr style=\"text-align: right;\">\n",
       "      <th></th>\n",
       "      <th>CensusTract</th>\n",
       "      <th>Neighbourhood</th>\n",
       "      <th>Neighbourhood#</th>\n",
       "    </tr>\n",
       "  </thead>\n",
       "  <tbody>\n",
       "    <tr>\n",
       "      <td>0</td>\n",
       "      <td>5350330.00</td>\n",
       "      <td>Guildwood</td>\n",
       "      <td>140</td>\n",
       "    </tr>\n",
       "    <tr>\n",
       "      <td>1</td>\n",
       "      <td>5350331.01</td>\n",
       "      <td>Guildwood</td>\n",
       "      <td>140</td>\n",
       "    </tr>\n",
       "    <tr>\n",
       "      <td>2</td>\n",
       "      <td>5350331.03</td>\n",
       "      <td>Scarborough Village</td>\n",
       "      <td>139</td>\n",
       "    </tr>\n",
       "    <tr>\n",
       "      <td>3</td>\n",
       "      <td>5350331.04</td>\n",
       "      <td>Scarborough Village</td>\n",
       "      <td>139</td>\n",
       "    </tr>\n",
       "    <tr>\n",
       "      <td>4</td>\n",
       "      <td>5350332.00</td>\n",
       "      <td>Scarborough Village</td>\n",
       "      <td>139</td>\n",
       "    </tr>\n",
       "  </tbody>\n",
       "</table>\n",
       "</div>"
      ],
      "text/plain": [
       "   CensusTract        Neighbourhood  Neighbourhood#\n",
       "0   5350330.00            Guildwood             140\n",
       "1   5350331.01            Guildwood             140\n",
       "2   5350331.03  Scarborough Village             139\n",
       "3   5350331.04  Scarborough Village             139\n",
       "4   5350332.00  Scarborough Village             139"
      ]
     },
     "execution_count": 6,
     "metadata": {},
     "output_type": "execute_result"
    }
   ],
   "source": [
    "# We can rename the columns for ease of use and consistency\n",
    "df_neighbourhoodsCTs.columns = [\"CensusTract\", \"Neighbourhood\", \"Neighbourhood#\"]\n",
    "df_neighbourhoodsCTs.head()"
   ]
  },
  {
   "cell_type": "code",
   "execution_count": 7,
   "metadata": {},
   "outputs": [
    {
     "name": "stdout",
     "output_type": "stream",
     "text": [
      "[5350330.0, 5350331.01, 5350331.03, 5350331.04, 5350332.0, 5350353.03, 5350353.04, 5350355.02, 5350355.03, 5350355.04]\n",
      "599\n"
     ]
    }
   ],
   "source": [
    "# Great! So now we need a list of the census tracts\n",
    "wanted_CTS = [] \n",
    "for i in df_neighbourhoodsCTs[\"CensusTract\"]:\n",
    "    wanted_CTS.append(i)\n",
    "\n",
    "# To check\n",
    "print(wanted_CTS[0:10])\n",
    "print(len(wanted_CTS))"
   ]
  },
  {
   "cell_type": "markdown",
   "metadata": {},
   "source": [
    "With these census tracts we can reduce our dataframe to just those for the Toronto neighbourhoods. Through previous exploration, we found the range of codes in `Member ID: Profile of Census Tracts (2247)` for the immigration data we want. "
   ]
  },
  {
   "cell_type": "code",
   "execution_count": null,
   "metadata": {},
   "outputs": [],
   "source": [
    "# With our list of desired census tracts, we can now make our smaller dataframe\n",
    "NeighbourhoodCT_df = df_2016.where((df_2016[\"GEO_CODE (POR)\"].isin(wanted_CTS)) & \\\n",
    "                                   (df_2016[\"Member ID: Profile of Census Tracts (2247)\"].isin(np.arange(1157, 1217)))).copy()"
   ]
  },
  {
   "cell_type": "code",
   "execution_count": null,
   "metadata": {},
   "outputs": [],
   "source": [
    "# To give it a check\n",
    "NeighbourhoodCT_df[\"DIM: Profile of Census Tracts (2247)\"].unique()"
   ]
  },
  {
   "cell_type": "code",
   "execution_count": null,
   "metadata": {},
   "outputs": [],
   "source": [
    "# To keep only the columns we would like.\n",
    "NeighbourhoodCT_df = NeighbourhoodCT_df[[\"GEO_CODE (POR)\", \"DIM: Profile of Census Tracts (2247)\", \"Member ID: Profile of Census Tracts (2247)\", \"Dim: Sex (3): Member ID: [1]: Total - Sex\"]]\n",
    "\n",
    "# To check\n",
    "print(NeighbourhoodCT_df.info())\n",
    "print(NeighbourhoodCT_df.shape)\n",
    "NeighbourhoodCT_df[\"GEO_CODE (POR)\"].isna().sum()"
   ]
  },
  {
   "cell_type": "code",
   "execution_count": null,
   "metadata": {},
   "outputs": [],
   "source": [
    "# To remove all of the N/As.\n",
    "NeighbourhoodCT_df.dropna(subset=[\"GEO_CODE (POR)\"], inplace=True)\n",
    "\n",
    "# And to check\n",
    "print(NeighbourhoodCT_df.isna().sum())\n",
    "print(NeighbourhoodCT_df.info())"
   ]
  },
  {
   "cell_type": "markdown",
   "metadata": {},
   "source": [
    "Hmmm? `Dim: Sex (3): Member ID: [1]: Total - Sex` should be a `float` or an `int` type. We need to investigate. But first we will clean up the titles, names, and descriptions to make working with the data more intuitive."
   ]
  },
  {
   "cell_type": "code",
   "execution_count": null,
   "metadata": {},
   "outputs": [],
   "source": [
    "# To make life easier, we will rename the columns\n",
    "NeighbourhoodCT_df.columns = [\"CensusTract\", \"ReportedOrigin\", \"ReportedOriginCode\", \"Population\"]"
   ]
  },
  {
   "cell_type": "code",
   "execution_count": null,
   "metadata": {},
   "outputs": [],
   "source": [
    "# What categories are we working with?\n",
    "NeighbourhoodCT_df[\"ReportedOrigin\"].unique()"
   ]
  },
  {
   "cell_type": "code",
   "execution_count": null,
   "metadata": {},
   "outputs": [],
   "source": [
    "# The total seems a bit wordy, we can make that easier\n",
    "NeighbourhoodCT_df[\"ReportedOrigin\"].replace(\"Total - Selected places of birth for the immigrant population in private households - 25% sample data\",\\\n",
    "                                            \"Total_Immigrant_Population\", inplace = True)\n",
    "\n",
    "# To check\n",
    "NeighbourhoodCT_df[\"ReportedOrigin\"].unique()"
   ]
  },
  {
   "cell_type": "markdown",
   "metadata": {},
   "source": [
    "The white spaces in the categories may cause some trouble later. We can replace whitespace and other punctiation."
   ]
  },
  {
   "cell_type": "code",
   "execution_count": null,
   "metadata": {},
   "outputs": [],
   "source": [
    "# To remove spaces and punctuation in category titles, for graphing reasons\n",
    "fixlist = list(NeighbourhoodCT_df[\"ReportedOrigin\"].unique())\n",
    "\n",
    "for i in fixlist:\n",
    "    j = i.replace(\" \", \"_\")\n",
    "    j = j.replace(\",\", \"\")\n",
    "    NeighbourhoodCT_df[\"ReportedOrigin\"].replace(i, j, inplace=True)\n",
    "    \n",
    "# To check\n",
    "NeighbourhoodCT_df[\"ReportedOrigin\"].unique()"
   ]
  },
  {
   "cell_type": "markdown",
   "metadata": {},
   "source": [
    "Excellent, now to check what was wrong with our `Population` column."
   ]
  },
  {
   "cell_type": "code",
   "execution_count": null,
   "metadata": {},
   "outputs": [],
   "source": [
    "# Now we need to know what is wrong with `Population`\n",
    "NeighbourhoodCT_df[NeighbourhoodCT_df[\"Population\"].str.isnumeric() == False]"
   ]
  },
  {
   "cell_type": "markdown",
   "metadata": {},
   "source": [
    "The \"x\" refers to supressed data.The population was either too small to report, the response rate not high enough, or there were technical issues. More information can be found [here](https://www12.statcan.gc.ca/census-recensement/2011/dp-pd/prof/help-aide/N3.cfm). We should see how many tracts are missing."
   ]
  },
  {
   "cell_type": "code",
   "execution_count": null,
   "metadata": {},
   "outputs": [],
   "source": [
    "# To check effected census tracts\n",
    "print(NeighbourhoodCT_df[NeighbourhoodCT_df[\"Population\"].str.isnumeric() == False][\"CensusTract\"].unique())"
   ]
  },
  {
   "cell_type": "markdown",
   "metadata": {},
   "source": [
    "It looks like there are only two census tracts in our dataframe that have had \"Area and data suppression\". It is important to see what neighbourhoods these effect before removing them, so that we are aware."
   ]
  },
  {
   "cell_type": "code",
   "execution_count": null,
   "metadata": {},
   "outputs": [],
   "source": [
    "# To check the supressed CTs\n",
    "df_neighbourhoodsCTs[df_neighbourhoodsCTs[\"CensusTract\"].isin([5350006.00, 5350205.00])]"
   ]
  },
  {
   "cell_type": "code",
   "execution_count": null,
   "metadata": {},
   "outputs": [],
   "source": [
    "# To check how many CTs are in each neighbourhood\n",
    "df_neighbourhoodsCTs[df_neighbourhoodsCTs[\"Neighbourhood#\"].isin([85, 18])]"
   ]
  },
  {
   "cell_type": "markdown",
   "metadata": {},
   "source": [
    "After removing the census tracts subjected to data supression, the listed neighbourhoods will still have CTs with accessible data. We can now feel more comfortable removing these census tracts."
   ]
  },
  {
   "cell_type": "code",
   "execution_count": null,
   "metadata": {},
   "outputs": [],
   "source": [
    "# Make a list of what we want to remove\n",
    "rmvCT = list(NeighbourhoodCT_df[NeighbourhoodCT_df[\"Population\"].str.isnumeric() == False][\"CensusTract\"].unique())\n",
    "\n",
    "# Removing the CTs that don't contain information\n",
    "NeighbourhoodCT_df = NeighbourhoodCT_df.where(~NeighbourhoodCT_df[\"CensusTract\"].isin(rmvCT)).dropna()\n",
    "\n",
    "#Changing our data from object to int\n",
    "NeighbourhoodCT_df[\"Population\"] = NeighbourhoodCT_df[\"Population\"].astype(int)\n",
    "\n",
    "# To check\n",
    "NeighbourhoodCT_df.info()"
   ]
  },
  {
   "cell_type": "markdown",
   "metadata": {},
   "source": [
    "Now that we have our census tract data all in a row, we should now add the neighbourhoods that each contribute to."
   ]
  },
  {
   "cell_type": "code",
   "execution_count": null,
   "metadata": {},
   "outputs": [],
   "source": [
    "# To combine our data\n",
    "Merged_df_2016 = NeighbourhoodCT_df.merge(df_neighbourhoodsCTs, how = \"left\", on = \"CensusTract\").copy()\n",
    "\n",
    "# To take a look\n",
    "Merged_df_2016"
   ]
  },
  {
   "cell_type": "code",
   "execution_count": null,
   "metadata": {},
   "outputs": [],
   "source": [
    "# Removing the columns we don't need.\n",
    "Merged_df_2016.drop([\"CensusTract\", \"Neighbourhood\", \"ReportedOriginCode\"], axis=1, inplace=True)\n",
    "\n",
    "# To save\n",
    "Merged_df_2016.to_csv(\"Merged_df_2016.csv\")"
   ]
  },
  {
   "cell_type": "markdown",
   "metadata": {},
   "source": [
    "We save `Merged_df_2016.csv` for easier access later. This is important for when we would like to deploy a bokeh application."
   ]
  },
  {
   "cell_type": "code",
   "execution_count": null,
   "metadata": {},
   "outputs": [],
   "source": [
    "# To check\n",
    "Merged_df_2016.head()"
   ]
  },
  {
   "cell_type": "markdown",
   "metadata": {},
   "source": [
    "The key to creating our choropleth is the `shapefile`. Fortunately the City of Toronto provides a shapefile for the neighbourhoods in their OpenData portal, which can be found [here](https://open.toronto.ca/dataset/neighbourhoods/)."
   ]
  },
  {
   "cell_type": "code",
   "execution_count": null,
   "metadata": {},
   "outputs": [],
   "source": [
    "# Now we can create a choropleth in bokeh!\n",
    "shapefile = \"CensusData/Neighbourhoods/Neighbourhoods.shp\"\n",
    "\n",
    "# Read shapefile using Geopandas\n",
    "# From previous exploration we determined that the listed fields contain the data we want.\n",
    "gdf_neighbourhoods = gpd.read_file(shapefile)[[\"FIELD_5\", \"FIELD_7\", \"geometry\"]]\n",
    "\n",
    "# Rename Columns\n",
    "gdf_neighbourhoods.columns = [\"Neighbourhood#\", \"Neighbourhood\", \"geometry\"]\n",
    "gdf_neighbourhoods.head()"
   ]
  },
  {
   "cell_type": "markdown",
   "metadata": {},
   "source": [
    "Now we have everything we need to create our Bokeh choropleth! An important step in the following is to convert our dataframe into a `.json` string. This is a requirement in Bokeh for this sort of graph.\n",
    "\n",
    "You will notice that the `Select` option in the graph here won't change the graph. A Bokeh server will need to be used."
   ]
  },
  {
   "cell_type": "code",
   "execution_count": null,
   "metadata": {},
   "outputs": [],
   "source": [
    "from bokeh.io import show, output_notebook\n",
    "from bokeh.plotting import figure, curdoc\n",
    "from bokeh.models import GeoJSONDataSource, LinearColorMapper, ColorBar, HoverTool\n",
    "from bokeh.palettes import brewer\n",
    "from bokeh.models.widgets import Select\n",
    "from bokeh.layouts import widgetbox, column\n",
    "\n",
    "###\n",
    "\n",
    "## To make sure all of our data is here\n",
    "\n",
    "# read in our dataframe\n",
    "Merged_df_2016 = pd.read_csv(\"Merged_df_2016.csv\")\n",
    "\n",
    "# Read shapefile using Geopandas\n",
    "shapefile = \"./CensusData/Neighbourhoods/Neighbourhoods.shp\"\n",
    "\n",
    "gdf_neighbourhoods = gpd.read_file(shapefile)[[\"FIELD_5\", \"FIELD_7\", \"geometry\"]]\n",
    "\n",
    "# Rename Columns\n",
    "gdf_neighbourhoods.columns = [\"Neighbourhood#\", \"Neighbourhood\", \"geometry\"]\n",
    "\n",
    "###\n",
    "\n",
    "def update_data(selectedOrigin):\n",
    "    \"\"\"\n",
    "    This function updates our data source to be only the data from our selected origin.\n",
    "    \"\"\"\n",
    "    # Gather the data about the selected origin we want\n",
    "    df = Merged_df_2016[Merged_df_2016[\"ReportedOrigin\"] == selectedOrigin].copy()\n",
    "    \n",
    "    # Combine the population data from all the CTs into neighbourhoods\n",
    "    df[\"TotalPopulation\"] = df.groupby(\"Neighbourhood#\")[\"Population\"].transform(\"sum\")\n",
    "    \n",
    "    # Grab the first instance in our dataframe for each neighbourhood (removing duplicate information)\n",
    "    df = df.groupby(\"Neighbourhood#\").first().reset_index()\n",
    "    \n",
    "    # Combining our shapefile data with our dataframe\n",
    "    df = gdf_neighbourhoods.merge(df, how = \"left\", on = \"Neighbourhood#\")\n",
    "    \n",
    "    # Restructuring our dataframe\n",
    "    df = df[[\"Neighbourhood\", \"geometry\", \"ReportedOrigin\", \"TotalPopulation\"]]\n",
    "    \n",
    "    return df\n",
    "\n",
    "def data_to_json(df):\n",
    "    \"\"\"\n",
    "    We use this to convert our data to `.json` so that we can graph in bokeh.\n",
    "    This step is seperate so that we can acces data from the dataframe before conversion.\n",
    "    \"\"\"\n",
    "    # Convert dataframe to a json string\n",
    "    tojson = df.to_json()\n",
    "\n",
    "    return tojson\n",
    "\n",
    "def origindata(attr, old, new):\n",
    "    \"\"\"\n",
    "    This function updates our plot with our new origin selection\n",
    "    \"\"\"\n",
    "    # To get the index of our value selected in the menu\n",
    "    choice = menu.index(select.value)\n",
    "\n",
    "    # To change the user facing category to the dataframe recognized category\n",
    "    selectedOrigin = menulist[choice]\n",
    "\n",
    "    # Changing our title to represent the data being shown\n",
    "    p.title.text = f'Population of Immigrants who reported {select.value} as their origin by Neighbourhood'\n",
    "\n",
    "    # Update our dataframe to our selected data\n",
    "    df_to_use = update_data(selectedOrigin)\n",
    "\n",
    "    # Change the tick labels on our colorbar\n",
    "    color_map.high = df_to_use.iloc[:,3].max()\n",
    "    color_map.low = df_to_use.iloc[:,3].min()\n",
    "\n",
    "    # Convert our data to be used.\n",
    "    new_data = data_to_json(df_to_use)\n",
    "    geosource.geojson = new_data\n",
    "    return\n",
    "\n",
    "# Our intial starting point\n",
    "selectedOrigin = \"Total_Immigrant_Population\"\n",
    "\n",
    "#Getting our data into a starting position\n",
    "df_to_use = update_data(selectedOrigin)\n",
    "geosource = GeoJSONDataSource(geojson = data_to_json(df_to_use))\n",
    "\n",
    "# Choosing our colorblind friendly colours\n",
    "palette = brewer['YlGn'][7]\n",
    "\n",
    "# Making the darker areas represent the higher population\n",
    "palette = palette[::-1]\n",
    "\n",
    "# Map our colours from the palette to our data. High and low set the ticks.\n",
    "color_map = LinearColorMapper(palette = palette, high = df_to_use.iloc[:,3].max(), low = df_to_use.iloc[:,3].min())\n",
    "\n",
    "# Add hover tool with defined information\n",
    "hover = HoverTool(tooltips = [('Neighbourhood','@Neighbourhood'),('Population', '@TotalPopulation')])\n",
    "\n",
    "# Create color bar.\n",
    "color_bar = ColorBar(color_mapper=color_map, label_standoff= 8, width = 20, height = 500,\n",
    "                     border_line_color=None, location = (0,0), orientation = 'vertical')\n",
    "\n",
    "# ou plot!\n",
    "p = figure(title = f'Population of Immigrants from Total Immigrant Population by Neighbourhood', plot_height = 600 , plot_width = 950, tools = [hover])\n",
    "\n",
    "# For aesthetic reasons, getting rid of excess lines and borders\n",
    "p.axis.visible = False\n",
    "p.grid.visible = False\n",
    "p.outline_line_color = None\n",
    "\n",
    "#Add patch renderer to figure.\n",
    "p.patches('xs','ys', source = geosource, fill_color = {'field' : 'TotalPopulation', 'transform' : color_map},\n",
    "              line_color = 'black', line_width = 0.25, fill_alpha = 1)\n",
    "\n",
    "# Put the colorbar on the left.\n",
    "p.add_layout(color_bar, \"left\")\n",
    "\n",
    "\n",
    "### Create our widget, and what is in it.\n",
    "\n",
    "# Take a list of categories\n",
    "menulist = list(Merged_df_2016[\"ReportedOrigin\"].unique())\n",
    "\n",
    "# Sort the list alphabetically, but put the total population as choice one.\n",
    "menulist[1:] = sorted(menulist[1:])\n",
    "\n",
    "# Repeat process above, but make the categories more user/reader friendly\n",
    "menu = list(map(lambda x : x.replace(\"_\", \" \"), menulist))\n",
    "menu[1:] = sorted(menu[1:])\n",
    "menu[31] = \"Korea, South\"\n",
    "menu[51] = 'South Africa, Republic of'\n",
    "\n",
    "# This is our Select widget.\n",
    "select = Select(title=\"Reported Origin:\", options=menu)\n",
    "select.on_change('value', origindata)\n",
    "\n",
    "###\n",
    "\n",
    "#Display figure inline in Jupyter Notebook.\n",
    "output_notebook()\n",
    "\n",
    "layout = column(p, widgetbox(select))\n",
    "curdoc().add_root(layout)\n",
    "\n",
    "#Display figure.\n",
    "show(layout)\n"
   ]
  },
  {
   "cell_type": "code",
   "execution_count": null,
   "metadata": {},
   "outputs": [],
   "source": [
    "# Take a list of categories\n",
    "menulist = list(Merged_df_2016[\"ReportedOrigin\"].unique())\n",
    "\n",
    "# Sort the list alphabetically, but put the total population as choice one.\n",
    "menulist[1:] = sorted(menulist[1:])\n",
    "\n",
    "# Repeat process above, but make the categories more user/reader friendly\n",
    "menu = list(map(lambda x : x.replace(\"_\", \" \"), menulist))\n",
    "menu[1:] = sorted(menu[1:])"
   ]
  },
  {
   "cell_type": "code",
   "execution_count": null,
   "metadata": {},
   "outputs": [],
   "source": []
  }
 ],
 "metadata": {
  "kernelspec": {
   "display_name": "Python 3",
   "language": "python",
   "name": "python3"
  },
  "language_info": {
   "codemirror_mode": {
    "name": "ipython",
    "version": 3
   },
   "file_extension": ".py",
   "mimetype": "text/x-python",
   "name": "python",
   "nbconvert_exporter": "python",
   "pygments_lexer": "ipython3",
   "version": "3.7.0"
  }
 },
 "nbformat": 4,
 "nbformat_minor": 4
}
